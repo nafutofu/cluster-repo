{
 "cells": [
  {
   "cell_type": "code",
   "execution_count": 8,
   "metadata": {
    "execution": {
     "iopub.execute_input": "2025-01-25T12:11:27.393215Z",
     "iopub.status.busy": "2025-01-25T12:11:27.392842Z",
     "iopub.status.idle": "2025-01-25T12:11:34.395611Z",
     "shell.execute_reply": "2025-01-25T12:11:34.394652Z",
     "shell.execute_reply.started": "2025-01-25T12:11:27.393184Z"
    },
    "trusted": true
   },
   "outputs": [],
   "source": [
    "import torch\n",
    "import torch.nn as nn\n",
    "import torch.optim as optim\n",
    "from torch.utils.data import DataLoader, Dataset\n",
    "from torchvision import datasets, transforms, models\n",
    "import pandas as pd\n",
    "import os"
   ]
  },
  {
   "cell_type": "code",
   "execution_count": 9,
   "metadata": {
    "execution": {
     "iopub.execute_input": "2025-01-25T12:12:45.916742Z",
     "iopub.status.busy": "2025-01-25T12:12:45.916361Z",
     "iopub.status.idle": "2025-01-25T12:12:47.271882Z",
     "shell.execute_reply": "2025-01-25T12:12:47.270804Z",
     "shell.execute_reply.started": "2025-01-25T12:12:45.916697Z"
    },
    "trusted": true
   },
   "outputs": [],
   "source": [
    "# load the training-set\n",
    "batch_size = 64\n",
    "\n",
    "transform_train = transforms.Compose([\n",
    "    transforms.Resize((224, 224)),\n",
    "    transforms.ToTensor(),\n",
    "    transforms.Normalize(mean=[0.485, 0.456, 0.406], std=[0.229, 0.224, 0.225])\n",
    "])\n",
    "\n",
    "train_dataset = datasets.ImageFolder(root='C:/Users/naufa/Desktop/Top Of Desk/Classes/CS 442/Assignment 1/cs-424-ass-1-wednesday-class/train', transform=transform_train)\n",
    "train_loader = DataLoader(dataset=train_dataset, batch_size=batch_size, shuffle=True)"
   ]
  },
  {
   "cell_type": "code",
   "execution_count": 10,
   "metadata": {
    "execution": {
     "iopub.execute_input": "2025-01-25T12:14:39.555389Z",
     "iopub.status.busy": "2025-01-25T12:14:39.554938Z",
     "iopub.status.idle": "2025-01-25T12:14:39.559951Z",
     "shell.execute_reply": "2025-01-25T12:14:39.558602Z",
     "shell.execute_reply.started": "2025-01-25T12:14:39.555339Z"
    },
    "trusted": true
   },
   "outputs": [],
   "source": [
    "dev = torch.device(\"cuda\") if torch.cuda.is_available() else torch.device(\"cpu\")"
   ]
  },
  {
   "cell_type": "code",
   "execution_count": 11,
   "metadata": {
    "execution": {
     "iopub.execute_input": "2025-01-25T14:02:49.174099Z",
     "iopub.status.busy": "2025-01-25T14:02:49.173781Z",
     "iopub.status.idle": "2025-01-25T14:02:49.360579Z",
     "shell.execute_reply": "2025-01-25T14:02:49.359635Z",
     "shell.execute_reply.started": "2025-01-25T14:02:49.174074Z"
    },
    "trusted": true
   },
   "outputs": [],
   "source": [
    "# Define ResNet-18 \n",
    "class CustomResNet18(nn.Module):\n",
    "    def __init__(self, num_classes):\n",
    "        super(CustomResNet18, self).__init__()\n",
    "        self.model = models.resnet18(weights=None)  # model from scratch\n",
    "        self.model.fc = nn.Linear(self.model.fc.in_features, num_classes)   \n",
    "    def forward(self, x):\n",
    "        return self.model(x)\n",
    "\n",
    "num_classes = 10   \n",
    "model = CustomResNet18(num_classes=num_classes).to(dev)\n",
    "\n",
    "# Define the loss function and optimizer\n",
    "learning_rate = 0.001\n",
    "criterion = nn.CrossEntropyLoss()\n",
    "optimizer = optim.Adam(model.parameters(), lr=learning_rate)"
   ]
  },
  {
   "cell_type": "code",
   "execution_count": 12,
   "metadata": {
    "execution": {
     "iopub.execute_input": "2025-01-25T14:02:54.038041Z",
     "iopub.status.busy": "2025-01-25T14:02:54.037707Z",
     "iopub.status.idle": "2025-01-25T14:02:54.043854Z",
     "shell.execute_reply": "2025-01-25T14:02:54.042711Z",
     "shell.execute_reply.started": "2025-01-25T14:02:54.038010Z"
    },
    "trusted": true
   },
   "outputs": [],
   "source": [
    "def train_model():\n",
    "    model.train()\n",
    "    for epoch in range(num_epochs):\n",
    "        total_loss = 0\n",
    "        for images, labels in train_loader:\n",
    "            images, labels = images.to(dev), labels.to(dev)\n",
    "\n",
    "            outputs = model(images)\n",
    "            loss = criterion(outputs, labels)\n",
    "\n",
    "            optimizer.zero_grad()\n",
    "            loss.backward()\n",
    "            optimizer.step()\n",
    "\n",
    "            total_loss += loss.item()\n",
    "\n",
    "        print(f\"Epoch [{epoch+1}/{num_epochs}], Loss: {total_loss/len(train_loader):.4f}\")\n",
    "\n",
    "    # save your model\n",
    "    torch.save(model.state_dict(), 'resnet18_local.pth')"
   ]
  },
  {
   "cell_type": "code",
   "execution_count": 13,
   "metadata": {
    "execution": {
     "iopub.execute_input": "2025-01-25T14:02:59.961962Z",
     "iopub.status.busy": "2025-01-25T14:02:59.961658Z",
     "iopub.status.idle": "2025-01-25T14:19:47.552144Z",
     "shell.execute_reply": "2025-01-25T14:19:47.550982Z",
     "shell.execute_reply.started": "2025-01-25T14:02:59.961936Z"
    },
    "trusted": true
   },
   "outputs": [
    {
     "name": "stderr",
     "output_type": "stream",
     "text": [
      "c:\\Users\\naufa\\Desktop\\Top Of Desk\\Classes\\CS 442\\Assignment 1\\.venv\\Lib\\site-packages\\PIL\\Image.py:1045: UserWarning: Palette images with Transparency expressed in bytes should be converted to RGBA images\n",
      "  warnings.warn(\n"
     ]
    },
    {
     "name": "stdout",
     "output_type": "stream",
     "text": [
      "Epoch [1/10], Loss: 1.7918\n",
      "Epoch [2/10], Loss: 1.4162\n",
      "Epoch [3/10], Loss: 1.2947\n",
      "Epoch [4/10], Loss: 1.2119\n",
      "Epoch [5/10], Loss: 1.0768\n",
      "Epoch [6/10], Loss: 1.0165\n",
      "Epoch [7/10], Loss: 0.9500\n",
      "Epoch [8/10], Loss: 0.9062\n",
      "Epoch [9/10], Loss: 0.8308\n",
      "Epoch [10/10], Loss: 0.7472\n"
     ]
    }
   ],
   "source": [
    "if __name__ == \"__main__\":\n",
    "    num_epochs = 10\n",
    "    train_model()"
   ]
  },
  {
   "cell_type": "code",
   "execution_count": 14,
   "metadata": {
    "execution": {
     "iopub.execute_input": "2025-01-25T14:23:38.763360Z",
     "iopub.status.busy": "2025-01-25T14:23:38.763007Z",
     "iopub.status.idle": "2025-01-25T14:23:38.769210Z",
     "shell.execute_reply": "2025-01-25T14:23:38.768360Z",
     "shell.execute_reply.started": "2025-01-25T14:23:38.763325Z"
    },
    "trusted": true
   },
   "outputs": [
    {
     "data": {
      "text/plain": [
       "10.663644790649414"
      ]
     },
     "execution_count": 14,
     "metadata": {},
     "output_type": "execute_result"
    }
   ],
   "source": [
    "# Model size (should be less than 26)\n",
    "\n",
    "total_params = sum(p.numel() for p in model.parameters())\n",
    "total_params/(1024*1024) "
   ]
  },
  {
   "cell_type": "code",
   "execution_count": 15,
   "metadata": {
    "execution": {
     "iopub.execute_input": "2025-01-25T14:23:42.817535Z",
     "iopub.status.busy": "2025-01-25T14:23:42.817165Z",
     "iopub.status.idle": "2025-01-25T14:23:44.300759Z",
     "shell.execute_reply": "2025-01-25T14:23:44.299640Z",
     "shell.execute_reply.started": "2025-01-25T14:23:42.817502Z"
    },
    "trusted": true
   },
   "outputs": [],
   "source": [
    "# load the test-set\n",
    "transform_test = transforms.Compose([\n",
    "    transforms.Resize((224, 224)),\n",
    "    transforms.ToTensor(),\n",
    "    transforms.Normalize(mean=[0.485, 0.456, 0.406], std=[0.229, 0.224, 0.225])\n",
    "])\n",
    "\n",
    "\n",
    "test_dataset = datasets.ImageFolder(root='C:/Users/naufa/Desktop/Top Of Desk/Classes/CS 442/Assignment 1/cs-424-ass-1-wednesday-class/test', transform=transform_test)\n",
    "test_loader = DataLoader(dataset=test_dataset, batch_size=batch_size, shuffle=False)"
   ]
  },
  {
   "cell_type": "code",
   "execution_count": 16,
   "metadata": {
    "execution": {
     "iopub.execute_input": "2025-01-25T14:23:47.148389Z",
     "iopub.status.busy": "2025-01-25T14:23:47.148056Z",
     "iopub.status.idle": "2025-01-25T14:23:47.153730Z",
     "shell.execute_reply": "2025-01-25T14:23:47.152743Z",
     "shell.execute_reply.started": "2025-01-25T14:23:47.148356Z"
    },
    "trusted": true
   },
   "outputs": [],
   "source": [
    "# test the model\n",
    "def test_model():\n",
    "    model.eval()\n",
    "    predictions = []\n",
    "    image_paths = [path for path, _ in test_dataset.imgs]   \n",
    "    with torch.no_grad():\n",
    "        for images, _ in test_loader:   \n",
    "            images = images.to(dev)\n",
    "            outputs = model(images)\n",
    "            _, predicted = torch.max(outputs, 1)\n",
    "            predictions.extend(predicted.cpu().numpy())\n",
    "\n",
    "    # prediction.csv\n",
    "    df = pd.DataFrame({\n",
    "        'id': image_paths,   \n",
    "        'label': predictions\n",
    "    })\n",
    "    df.to_csv('Username.csv', index=False) # should be changed to Username.csv\n",
    "    print(\"Results saved to Username.csv\")"
   ]
  },
  {
   "cell_type": "code",
   "execution_count": 17,
   "metadata": {
    "execution": {
     "iopub.execute_input": "2025-01-25T14:24:03.647682Z",
     "iopub.status.busy": "2025-01-25T14:24:03.647335Z",
     "iopub.status.idle": "2025-01-25T14:24:24.477746Z",
     "shell.execute_reply": "2025-01-25T14:24:24.476848Z",
     "shell.execute_reply.started": "2025-01-25T14:24:03.647659Z"
    },
    "trusted": true
   },
   "outputs": [
    {
     "name": "stdout",
     "output_type": "stream",
     "text": [
      "Results saved to Username.csv\n"
     ]
    }
   ],
   "source": [
    "if __name__ == \"__main__\":\n",
    "    test_model()"
   ]
  }
 ],
 "metadata": {
  "kaggle": {
   "accelerator": "gpu",
   "dataSources": [
    {
     "databundleVersionId": 10911544,
     "sourceId": 91922,
     "sourceType": "competition"
    }
   ],
   "dockerImageVersionId": 30840,
   "isGpuEnabled": true,
   "isInternetEnabled": true,
   "language": "python",
   "sourceType": "notebook"
  },
  "kernelspec": {
   "display_name": ".venv",
   "language": "python",
   "name": "python3"
  },
  "language_info": {
   "codemirror_mode": {
    "name": "ipython",
    "version": 3
   },
   "file_extension": ".py",
   "mimetype": "text/x-python",
   "name": "python",
   "nbconvert_exporter": "python",
   "pygments_lexer": "ipython3",
   "version": "3.12.0"
  }
 },
 "nbformat": 4,
 "nbformat_minor": 4
}
