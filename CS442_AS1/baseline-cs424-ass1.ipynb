{
 "cells": [
  {
   "cell_type": "code",
   "execution_count": 1,
   "metadata": {},
   "outputs": [
    {
     "name": "stdout",
     "output_type": "stream",
     "text": [
      "Requirement already satisfied: torch in /common/home/users/n/naufala.2022/jupyterlab-venv-pytorch-240/lib/python3.11/site-packages (2.6.0)\n",
      "Requirement already satisfied: filelock in /common/home/users/n/naufala.2022/jupyterlab-venv-pytorch-240/lib/python3.11/site-packages (from torch) (3.17.0)\n",
      "Requirement already satisfied: typing-extensions>=4.10.0 in /common/home/users/n/naufala.2022/jupyterlab-venv-pytorch-240/lib/python3.11/site-packages (from torch) (4.12.2)\n",
      "Requirement already satisfied: networkx in /common/home/users/n/naufala.2022/jupyterlab-venv-pytorch-240/lib/python3.11/site-packages (from torch) (3.4.2)\n",
      "Requirement already satisfied: jinja2 in /common/home/users/n/naufala.2022/jupyterlab-venv-pytorch-240/lib/python3.11/site-packages (from torch) (3.1.5)\n",
      "Requirement already satisfied: fsspec in /common/home/users/n/naufala.2022/jupyterlab-venv-pytorch-240/lib/python3.11/site-packages (from torch) (2025.2.0)\n",
      "Requirement already satisfied: nvidia-cuda-nvrtc-cu12==12.4.127 in /common/home/users/n/naufala.2022/jupyterlab-venv-pytorch-240/lib/python3.11/site-packages (from torch) (12.4.127)\n",
      "Requirement already satisfied: nvidia-cuda-runtime-cu12==12.4.127 in /common/home/users/n/naufala.2022/jupyterlab-venv-pytorch-240/lib/python3.11/site-packages (from torch) (12.4.127)\n",
      "Requirement already satisfied: nvidia-cuda-cupti-cu12==12.4.127 in /common/home/users/n/naufala.2022/jupyterlab-venv-pytorch-240/lib/python3.11/site-packages (from torch) (12.4.127)\n",
      "Requirement already satisfied: nvidia-cudnn-cu12==9.1.0.70 in /common/home/users/n/naufala.2022/jupyterlab-venv-pytorch-240/lib/python3.11/site-packages (from torch) (9.1.0.70)\n",
      "Requirement already satisfied: nvidia-cublas-cu12==12.4.5.8 in /common/home/users/n/naufala.2022/jupyterlab-venv-pytorch-240/lib/python3.11/site-packages (from torch) (12.4.5.8)\n",
      "Requirement already satisfied: nvidia-cufft-cu12==11.2.1.3 in /common/home/users/n/naufala.2022/jupyterlab-venv-pytorch-240/lib/python3.11/site-packages (from torch) (11.2.1.3)\n",
      "Requirement already satisfied: nvidia-curand-cu12==10.3.5.147 in /common/home/users/n/naufala.2022/jupyterlab-venv-pytorch-240/lib/python3.11/site-packages (from torch) (10.3.5.147)\n",
      "Requirement already satisfied: nvidia-cusolver-cu12==11.6.1.9 in /common/home/users/n/naufala.2022/jupyterlab-venv-pytorch-240/lib/python3.11/site-packages (from torch) (11.6.1.9)\n",
      "Requirement already satisfied: nvidia-cusparse-cu12==12.3.1.170 in /common/home/users/n/naufala.2022/jupyterlab-venv-pytorch-240/lib/python3.11/site-packages (from torch) (12.3.1.170)\n",
      "Requirement already satisfied: nvidia-cusparselt-cu12==0.6.2 in /common/home/users/n/naufala.2022/jupyterlab-venv-pytorch-240/lib/python3.11/site-packages (from torch) (0.6.2)\n",
      "Requirement already satisfied: nvidia-nccl-cu12==2.21.5 in /common/home/users/n/naufala.2022/jupyterlab-venv-pytorch-240/lib/python3.11/site-packages (from torch) (2.21.5)\n",
      "Requirement already satisfied: nvidia-nvtx-cu12==12.4.127 in /common/home/users/n/naufala.2022/jupyterlab-venv-pytorch-240/lib/python3.11/site-packages (from torch) (12.4.127)\n",
      "Requirement already satisfied: nvidia-nvjitlink-cu12==12.4.127 in /common/home/users/n/naufala.2022/jupyterlab-venv-pytorch-240/lib/python3.11/site-packages (from torch) (12.4.127)\n",
      "Requirement already satisfied: triton==3.2.0 in /common/home/users/n/naufala.2022/jupyterlab-venv-pytorch-240/lib/python3.11/site-packages (from torch) (3.2.0)\n",
      "Requirement already satisfied: sympy==1.13.1 in /common/home/users/n/naufala.2022/jupyterlab-venv-pytorch-240/lib/python3.11/site-packages (from torch) (1.13.1)\n",
      "Requirement already satisfied: mpmath<1.4,>=1.1.0 in /common/home/users/n/naufala.2022/jupyterlab-venv-pytorch-240/lib/python3.11/site-packages (from sympy==1.13.1->torch) (1.3.0)\n",
      "Requirement already satisfied: MarkupSafe>=2.0 in /common/home/users/n/naufala.2022/jupyterlab-venv-pytorch-240/lib/python3.11/site-packages (from jinja2->torch) (3.0.2)\n",
      "Requirement already satisfied: torchvision in /common/home/users/n/naufala.2022/jupyterlab-venv-pytorch-240/lib/python3.11/site-packages (0.21.0)\n",
      "Requirement already satisfied: numpy in /common/home/users/n/naufala.2022/jupyterlab-venv-pytorch-240/lib/python3.11/site-packages (from torchvision) (2.2.2)\n",
      "Requirement already satisfied: torch==2.6.0 in /common/home/users/n/naufala.2022/jupyterlab-venv-pytorch-240/lib/python3.11/site-packages (from torchvision) (2.6.0)\n",
      "Requirement already satisfied: pillow!=8.3.*,>=5.3.0 in /common/home/users/n/naufala.2022/jupyterlab-venv-pytorch-240/lib/python3.11/site-packages (from torchvision) (11.1.0)\n",
      "Requirement already satisfied: filelock in /common/home/users/n/naufala.2022/jupyterlab-venv-pytorch-240/lib/python3.11/site-packages (from torch==2.6.0->torchvision) (3.17.0)\n",
      "Requirement already satisfied: typing-extensions>=4.10.0 in /common/home/users/n/naufala.2022/jupyterlab-venv-pytorch-240/lib/python3.11/site-packages (from torch==2.6.0->torchvision) (4.12.2)\n",
      "Requirement already satisfied: networkx in /common/home/users/n/naufala.2022/jupyterlab-venv-pytorch-240/lib/python3.11/site-packages (from torch==2.6.0->torchvision) (3.4.2)\n",
      "Requirement already satisfied: jinja2 in /common/home/users/n/naufala.2022/jupyterlab-venv-pytorch-240/lib/python3.11/site-packages (from torch==2.6.0->torchvision) (3.1.5)\n",
      "Requirement already satisfied: fsspec in /common/home/users/n/naufala.2022/jupyterlab-venv-pytorch-240/lib/python3.11/site-packages (from torch==2.6.0->torchvision) (2025.2.0)\n",
      "Requirement already satisfied: nvidia-cuda-nvrtc-cu12==12.4.127 in /common/home/users/n/naufala.2022/jupyterlab-venv-pytorch-240/lib/python3.11/site-packages (from torch==2.6.0->torchvision) (12.4.127)\n",
      "Requirement already satisfied: nvidia-cuda-runtime-cu12==12.4.127 in /common/home/users/n/naufala.2022/jupyterlab-venv-pytorch-240/lib/python3.11/site-packages (from torch==2.6.0->torchvision) (12.4.127)\n",
      "Requirement already satisfied: nvidia-cuda-cupti-cu12==12.4.127 in /common/home/users/n/naufala.2022/jupyterlab-venv-pytorch-240/lib/python3.11/site-packages (from torch==2.6.0->torchvision) (12.4.127)\n",
      "Requirement already satisfied: nvidia-cudnn-cu12==9.1.0.70 in /common/home/users/n/naufala.2022/jupyterlab-venv-pytorch-240/lib/python3.11/site-packages (from torch==2.6.0->torchvision) (9.1.0.70)\n",
      "Requirement already satisfied: nvidia-cublas-cu12==12.4.5.8 in /common/home/users/n/naufala.2022/jupyterlab-venv-pytorch-240/lib/python3.11/site-packages (from torch==2.6.0->torchvision) (12.4.5.8)\n",
      "Requirement already satisfied: nvidia-cufft-cu12==11.2.1.3 in /common/home/users/n/naufala.2022/jupyterlab-venv-pytorch-240/lib/python3.11/site-packages (from torch==2.6.0->torchvision) (11.2.1.3)\n",
      "Requirement already satisfied: nvidia-curand-cu12==10.3.5.147 in /common/home/users/n/naufala.2022/jupyterlab-venv-pytorch-240/lib/python3.11/site-packages (from torch==2.6.0->torchvision) (10.3.5.147)\n",
      "Requirement already satisfied: nvidia-cusolver-cu12==11.6.1.9 in /common/home/users/n/naufala.2022/jupyterlab-venv-pytorch-240/lib/python3.11/site-packages (from torch==2.6.0->torchvision) (11.6.1.9)\n",
      "Requirement already satisfied: nvidia-cusparse-cu12==12.3.1.170 in /common/home/users/n/naufala.2022/jupyterlab-venv-pytorch-240/lib/python3.11/site-packages (from torch==2.6.0->torchvision) (12.3.1.170)\n",
      "Requirement already satisfied: nvidia-cusparselt-cu12==0.6.2 in /common/home/users/n/naufala.2022/jupyterlab-venv-pytorch-240/lib/python3.11/site-packages (from torch==2.6.0->torchvision) (0.6.2)\n",
      "Requirement already satisfied: nvidia-nccl-cu12==2.21.5 in /common/home/users/n/naufala.2022/jupyterlab-venv-pytorch-240/lib/python3.11/site-packages (from torch==2.6.0->torchvision) (2.21.5)\n",
      "Requirement already satisfied: nvidia-nvtx-cu12==12.4.127 in /common/home/users/n/naufala.2022/jupyterlab-venv-pytorch-240/lib/python3.11/site-packages (from torch==2.6.0->torchvision) (12.4.127)\n",
      "Requirement already satisfied: nvidia-nvjitlink-cu12==12.4.127 in /common/home/users/n/naufala.2022/jupyterlab-venv-pytorch-240/lib/python3.11/site-packages (from torch==2.6.0->torchvision) (12.4.127)\n",
      "Requirement already satisfied: triton==3.2.0 in /common/home/users/n/naufala.2022/jupyterlab-venv-pytorch-240/lib/python3.11/site-packages (from torch==2.6.0->torchvision) (3.2.0)\n",
      "Requirement already satisfied: sympy==1.13.1 in /common/home/users/n/naufala.2022/jupyterlab-venv-pytorch-240/lib/python3.11/site-packages (from torch==2.6.0->torchvision) (1.13.1)\n",
      "Requirement already satisfied: mpmath<1.4,>=1.1.0 in /common/home/users/n/naufala.2022/jupyterlab-venv-pytorch-240/lib/python3.11/site-packages (from sympy==1.13.1->torch==2.6.0->torchvision) (1.3.0)\n",
      "Requirement already satisfied: MarkupSafe>=2.0 in /common/home/users/n/naufala.2022/jupyterlab-venv-pytorch-240/lib/python3.11/site-packages (from jinja2->torch==2.6.0->torchvision) (3.0.2)\n",
      "Requirement already satisfied: pandas in /common/home/users/n/naufala.2022/jupyterlab-venv-pytorch-240/lib/python3.11/site-packages (2.2.3)\n",
      "Requirement already satisfied: numpy>=1.23.2 in /common/home/users/n/naufala.2022/jupyterlab-venv-pytorch-240/lib/python3.11/site-packages (from pandas) (2.2.2)\n",
      "Requirement already satisfied: python-dateutil>=2.8.2 in /common/home/users/n/naufala.2022/jupyterlab-venv-pytorch-240/lib/python3.11/site-packages (from pandas) (2.9.0.post0)\n",
      "Requirement already satisfied: pytz>=2020.1 in /common/home/users/n/naufala.2022/jupyterlab-venv-pytorch-240/lib/python3.11/site-packages (from pandas) (2025.1)\n",
      "Requirement already satisfied: tzdata>=2022.7 in /common/home/users/n/naufala.2022/jupyterlab-venv-pytorch-240/lib/python3.11/site-packages (from pandas) (2025.1)\n",
      "Requirement already satisfied: six>=1.5 in /common/home/users/n/naufala.2022/jupyterlab-venv-pytorch-240/lib/python3.11/site-packages (from python-dateutil>=2.8.2->pandas) (1.17.0)\n"
     ]
    }
   ],
   "source": [
    "!pip3 install torch\n",
    "!pip3 install torchvision\n",
    "!pip3 install pandas"
   ]
  },
  {
   "cell_type": "code",
   "execution_count": 2,
   "metadata": {},
   "outputs": [],
   "source": [
    "\n",
    "\n",
    "import torch\n",
    "import torch.nn as nn\n",
    "import torch.optim as optim\n",
    "from torch.utils.data import DataLoader, Dataset\n",
    "from torchvision import datasets, transforms, models\n",
    "import pandas as pd\n",
    "import os"
   ]
  },
  {
   "cell_type": "code",
   "execution_count": 3,
   "metadata": {},
   "outputs": [],
   "source": [
    "# load the training-set\n",
    "batch_size = 128\n",
    "\n",
    "transform_train = transforms.Compose([\n",
    "    transforms.Resize((224, 224)),\n",
    "    transforms.ToTensor(),\n",
    "    transforms.Normalize(mean=[0.485, 0.456, 0.406], std=[0.229, 0.224, 0.225])\n",
    "])\n",
    "\n",
    "train_dataset = datasets.ImageFolder(root='../cs-424-ass-1-wednesday-class/train', transform=transform_train)\n",
    "train_loader = DataLoader(dataset=train_dataset, batch_size=batch_size, shuffle=True)"
   ]
  },
  {
   "cell_type": "code",
   "execution_count": 4,
   "metadata": {},
   "outputs": [
    {
     "name": "stdout",
     "output_type": "stream",
     "text": [
      "Using device: cuda\n"
     ]
    }
   ],
   "source": [
    "dev = torch.device(\"cuda\" if torch.cuda.is_available() else \"cpu\")\n",
    "print(f\"Using device: {dev}\")"
   ]
  },
  {
   "cell_type": "code",
   "execution_count": 5,
   "metadata": {},
   "outputs": [],
   "source": [
    "# Define ResNet-18 \n",
    "class CustomResNet18(nn.Module):\n",
    "    def __init__(self, num_classes):\n",
    "        super(CustomResNet18, self).__init__()\n",
    "        self.model = models.resnet18(weights=None)  # model from scratch\n",
    "        self.model.fc = nn.Linear(self.model.fc.in_features, num_classes)   \n",
    "    def forward(self, x):\n",
    "        return self.model(x)\n",
    "\n",
    "num_classes = 10   \n",
    "model = CustomResNet18(num_classes=num_classes).to(dev)\n",
    "\n",
    "# Define the loss function and optimizer (INCREASE LOSS FUNCTION BC IT PLATEUED)\n",
    "learning_rate = 0.02\n",
    "criterion = nn.CrossEntropyLoss()\n",
    "optimizer = optim.Adam(model.parameters(), lr=learning_rate)"
   ]
  },
  {
   "cell_type": "code",
   "execution_count": 6,
   "metadata": {},
   "outputs": [],
   "source": [
    "def train_model():\n",
    "    model.train()\n",
    "    for epoch in range(num_epochs):\n",
    "        total_loss = 0\n",
    "        for images, labels in train_loader:\n",
    "            images, labels = images.to(dev), labels.to(dev)\n",
    "\n",
    "            outputs = model(images)\n",
    "            loss = criterion(outputs, labels)\n",
    "\n",
    "            optimizer.zero_grad()\n",
    "            loss.backward()\n",
    "            optimizer.step()\n",
    "\n",
    "            total_loss += loss.item()\n",
    "\n",
    "        print(f\"Epoch [{epoch+1}/{num_epochs}], Loss: {total_loss/len(train_loader):.4f}\")\n",
    "\n",
    "    # save your model\n",
    "    torch.save(model.state_dict(), 'resnet18_local.pth')"
   ]
  },
  {
   "cell_type": "code",
   "execution_count": 7,
   "metadata": {},
   "outputs": [
    {
     "name": "stderr",
     "output_type": "stream",
     "text": [
      "/common/home/users/n/naufala.2022/jupyterlab-venv-pytorch-240/lib/python3.11/site-packages/PIL/Image.py:1045: UserWarning: Palette images with Transparency expressed in bytes should be converted to RGBA images\n",
      "  warnings.warn(\n"
     ]
    },
    {
     "name": "stdout",
     "output_type": "stream",
     "text": [
      "Epoch [1/10], Loss: 3.2256\n",
      "Epoch [2/10], Loss: 2.2132\n",
      "Epoch [3/10], Loss: 1.9338\n",
      "Epoch [4/10], Loss: 1.8194\n",
      "Epoch [5/10], Loss: 1.7017\n",
      "Epoch [6/10], Loss: 1.6173\n",
      "Epoch [7/10], Loss: 1.5283\n",
      "Epoch [8/10], Loss: 1.4522\n",
      "Epoch [9/10], Loss: 1.3769\n",
      "Epoch [10/10], Loss: 1.3521\n"
     ]
    }
   ],
   "source": [
    "if __name__ == \"__main__\":\n",
    "    num_epochs = 10\n",
    "    train_model()"
   ]
  },
  {
   "cell_type": "code",
   "execution_count": 8,
   "metadata": {},
   "outputs": [
    {
     "data": {
      "text/plain": [
       "10.663644790649414"
      ]
     },
     "execution_count": 8,
     "metadata": {},
     "output_type": "execute_result"
    }
   ],
   "source": [
    "# Model size (should be less than 26)\n",
    "\n",
    "total_params = sum(p.numel() for p in model.parameters())\n",
    "total_params/(1024*1024) "
   ]
  },
  {
   "cell_type": "code",
   "execution_count": 9,
   "metadata": {},
   "outputs": [],
   "source": [
    "# load the test-set\n",
    "transform_test = transforms.Compose([\n",
    "    transforms.Resize((224, 224)),\n",
    "    transforms.ToTensor(),\n",
    "    transforms.Normalize(mean=[0.485, 0.456, 0.406], std=[0.229, 0.224, 0.225])\n",
    "])\n",
    "\n",
    "\n",
    "test_dataset = datasets.ImageFolder(root='../cs-424-ass-1-wednesday-class/test', transform=transform_test)\n",
    "test_loader = DataLoader(dataset=test_dataset, batch_size=batch_size, shuffle=False)"
   ]
  },
  {
   "cell_type": "code",
   "execution_count": 10,
   "metadata": {},
   "outputs": [],
   "source": [
    "# test the model\n",
    "def test_model():\n",
    "    model.eval()\n",
    "    predictions = []\n",
    "    image_paths = [path for path, _ in test_dataset.imgs]   \n",
    "\n",
    "    old_prefix = \"..\"\n",
    "    new_prefix = \"/kaggle/input\"\n",
    "    \n",
    "    with torch.no_grad():\n",
    "        for images, _ in test_loader:   \n",
    "            images = images.to(dev)\n",
    "            outputs = model(images)\n",
    "            _, predicted = torch.max(outputs, 1)\n",
    "            predictions.extend(predicted.cpu().numpy())\n",
    "\n",
    "    adjusted_paths= [path.replace(old_prefix, new_prefix) for path in image_paths]\n",
    "\n",
    "    # prediction.csv\n",
    "    df = pd.DataFrame({\n",
    "        'id': adjusted_paths,   \n",
    "        'label': predictions\n",
    "    })\n",
    "    df.to_csv('Naufal Syaqil Bin Azmi.csv', index=False) # should be changed to Username.csv\n",
    "    print(\"Results saved to Naufal Syaqil Bin Azmi.csv\")"
   ]
  },
  {
   "cell_type": "code",
   "execution_count": 11,
   "metadata": {},
   "outputs": [
    {
     "name": "stdout",
     "output_type": "stream",
     "text": [
      "Results saved to Naufal Syaqil Bin Azmi.csv\n"
     ]
    }
   ],
   "source": [
    "if __name__ == \"__main__\":\n",
    "    test_model()"
   ]
  }
 ],
 "metadata": {
  "kaggle": {
   "accelerator": "gpu",
   "dataSources": [
    {
     "databundleVersionId": 10911544,
     "sourceId": 91922,
     "sourceType": "competition"
    }
   ],
   "dockerImageVersionId": 30840,
   "isGpuEnabled": true,
   "isInternetEnabled": true,
   "language": "python",
   "sourceType": "notebook"
  },
  "kernelspec": {
   "display_name": "Python 3 (ipykernel)",
   "language": "python",
   "name": "python3"
  },
  "language_info": {
   "codemirror_mode": {
    "name": "ipython",
    "version": 3
   },
   "file_extension": ".py",
   "mimetype": "text/x-python",
   "name": "python",
   "nbconvert_exporter": "python",
   "pygments_lexer": "ipython3",
   "version": "3.11.11"
  }
 },
 "nbformat": 4,
 "nbformat_minor": 4
}
